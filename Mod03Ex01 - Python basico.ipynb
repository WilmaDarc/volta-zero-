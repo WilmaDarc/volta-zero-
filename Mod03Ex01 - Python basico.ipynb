{
 "cells": [
  {
   "cell_type": "markdown",
   "metadata": {},
   "source": [
    "### 01 - Teste de gravidez\n",
    "Escreva uma célula com controle de fluxos que tem como premissa a existência das seguintes variáveis:\n",
    "\n",
    "- ```sexo``` como ```str``` indicando os valores '**M**' para masculino e '**F**' para feminino  \n",
    "- ```beta_hcg``` que indica a quantidade do beta-HCG no sangue em mUI/mL.\n",
    "\n",
    "A sua tarefa é escrever um código que imprima como resultado \"indivíduo do sexo masculino\" quando sexo = 'M', caso sexo = 'F', se o valor de beta-HCG for maior que 5, retorne \"Positivo\" indicando que a paciente está grávida, e retorne \"Negativo\" caso contrário.\n",
    "\n",
    "Não mexa nos valores da variável ```sexo``` nem em ```beta_hcg```, e escreva um código que funcione para quaisquer valores possíveis de ambos: ```sexo``` = '**M**' ou '**F**' e ```beta_hcg``` assumindo valores inteiros positivos."
   ]
  },
  {
   "cell_type": "code",
   "execution_count": 5,
   "metadata": {},
   "outputs": [
    {
     "name": "stdout",
     "output_type": "stream",
     "text": [
      "indivíduo do sexo masculino\n"
     ]
    }
   ],
   "source": [
    "sexo = 'M'\n",
    "beta_hcg = 0\n",
    "# seu código vem abaixo desta linha\n",
    "# premissa: existem as variáveis sexo (str: 'M' ou 'F') e beta_hcg (int >= 0)\n",
    "if sexo == 'M':\n",
    "    print(\"indivíduo do sexo masculino\")\n",
    "elif sexo == 'F':\n",
    "    if beta_hcg > 5:\n",
    "        print(\"Positivo\")\n",
    "    else:\n",
    "        print(\"Negativo\")\n",
    "else:\n",
    "    # caso o valor de sexo não seja 'M' nem 'F', tratar como inválido\n",
    "    print(\"Valor de sexo inválido\")\n"
   ]
  },
  {
   "cell_type": "markdown",
   "metadata": {},
   "source": [
    "### 02 - Renomeando variáveis\n",
    "\n",
    "Vamos ver adiante que uma forma de renomear variáveis de um conjunto de dados é através de dicionários - o dicionário deve conter como chave o nome original, associando a cada chave um único valor (tipo *str*) que contenha o nome novo.\n",
    "\n",
    "A sua tarefa é escrever um dicionário que possa ser utilizado para traduzir as variáveis ```name``` (nome), ```age``` (idade) e ```income``` (renda). Ou seja, esse dicionário deve relacionar as chaves *name, age* e *income* às suas respectivas traduções."
   ]
  },
  {
   "cell_type": "code",
   "execution_count": 12,
   "metadata": {},
   "outputs": [
    {
     "name": "stdout",
     "output_type": "stream",
     "text": [
      "{'name': 'nome', 'age': 'idade', 'income': 'renda'}\n"
     ]
    }
   ],
   "source": [
    "dict_renomeacao = {\n",
    "    \"name\": \"nome\",\n",
    "    \"age\": \"idade\",\n",
    "    \"income\": \"renda\"\n",
    "}\n",
    "print(dict_renomeacao)\n"
   ]
  },
  {
   "cell_type": "markdown",
   "metadata": {},
   "source": [
    "### 03 - É divisível?\n",
    "A sua tarefa é escrever um código que indique se um número ```N``` é divisível por um número P. Escreva um programa que faça essa verificação para quaisquer combinações de ```N``` e ```M``` e devolva uma mensagem indicativa no output."
   ]
  },
  {
   "cell_type": "code",
   "execution_count": 14,
   "metadata": {},
   "outputs": [
    {
     "name": "stdout",
     "output_type": "stream",
     "text": [
      "42 é divisível por 7\n"
     ]
    }
   ],
   "source": [
    "N = 42\n",
    "M = 7\n",
    "\n",
    "#Seu código\n",
    "if M == 0:\n",
    "    print(\"Divisor inválido\")\n",
    "else:\n",
    "    if N % M == 0:\n",
    "        print(f\"{N} é divisível por {M}\")\n",
    "    else:\n",
    "        print(f\"{N} não é divisível por {M}\")\n"
   ]
  },
  {
   "cell_type": "markdown",
   "metadata": {},
   "source": [
    "### 04 - Números primos\n",
    "> Um número **N** é primo se e somente se é divisível por 1, -1, por **N** e por -**N**.  \n",
    "\n",
    "Escreva um script que verifica se ```N``` é um número primo, verificando se ```N``` é divisível por todos os números de ```1``` a ```N-1```. Você vai precisar usar alguma ferramenta de *loop* que você aprendeu para isto. No final, devolva uma mensagem no output indicando se o número é primo ou não."
   ]
  },
  {
   "cell_type": "code",
   "execution_count": 15,
   "metadata": {},
   "outputs": [
    {
     "name": "stdout",
     "output_type": "stream",
     "text": [
      "47 é primo\n"
     ]
    }
   ],
   "source": [
    "N = 47\n",
    "\n",
    "# seu código abaixo\n",
    "# premissa: existe a variável N (int)\n",
    "n = abs(N)\n",
    "\n",
    "if N == 0 or N == 1 or N == -1:\n",
    "    print(f\"{N} não é primo\")\n",
    "else:\n",
    "    # testar divisores de 2 até sqrt(n) para eficiência\n",
    "    is_prime = True\n",
    "    i = 2\n",
    "    while i * i <= n:\n",
    "        if n % i == 0:\n",
    "            is_prime = False\n",
    "            break\n",
    "        i += 1\n",
    "\n",
    "    if is_prime:\n",
    "        print(f\"{N} é primo\")\n",
    "    else:\n",
    "        print(f\"{N} não é primo\")\n"
   ]
  },
  {
   "cell_type": "markdown",
   "metadata": {},
   "source": [
    "### 05 - Desafio\n",
    "O algorítmo do exercício anterior não é o mais eficiente. O que você pode fazer para deixá-lo mais eficiente? Ou seja, executar menos comparações, portanto consumir menos tempo.\n",
    "1. Será que precisamos correr o loop até o final sempre?\n",
    "2. Será que precisamos mesmo verificar **todos** os números?\n",
    "3. Será que precisamos ir até N-1?\n",
    "\n",
    "Essas perguntas levam ao tipo de pensamento voltado a deixar um algoritmo mais eficiente. Veja se você consegue melhorar o seu."
   ]
  },
  {
   "cell_type": "code",
   "execution_count": 16,
   "metadata": {},
   "outputs": [
    {
     "name": "stdout",
     "output_type": "stream",
     "text": [
      "98 não é primo\n"
     ]
    }
   ],
   "source": [
    "N = 98\n",
    "\n",
    "# seu código aqui\n",
    "\n",
    "n = abs(N)\n",
    "\n",
    "if n <= 1:\n",
    "    print(f\"{N} não é primo\")\n",
    "else:\n",
    "    if n == 2:\n",
    "        print(f\"{N} é primo\")\n",
    "    elif n % 2 == 0:\n",
    "        print(f\"{N} não é primo\")\n",
    "    else:\n",
    "        is_prime = True\n",
    "        i = 3\n",
    "        while i * i <= n:\n",
    "            if n % i == 0:\n",
    "                is_prime = False\n",
    "                break\n",
    "            i += 2\n",
    "        if is_prime:\n",
    "            print(f\"{N} é primo\")\n",
    "        else:\n",
    "            print(f\"{N} não é primo\")\n"
   ]
  },
  {
   "cell_type": "markdown",
   "metadata": {},
   "source": [
    "### 06 - Peso ideal 1\n",
    "O IMC (índice de massa corpórea) é um indicador de saúde mais bem aceito que o peso. Ele é calculado como:\n",
    "\n",
    "$$ IMC = \\dfrac{peso}{altura^2}$$\n",
    "\n",
    "Segundo a OMS, valores *normais* são entre 18.5 e 24.9.\n",
    "\n",
    "Sua tarefa é encontrar o ponto médio dessa faixa."
   ]
  },
  {
   "cell_type": "code",
   "execution_count": 19,
   "metadata": {},
   "outputs": [
    {
     "name": "stdout",
     "output_type": "stream",
     "text": [
      "21.7\n"
     ]
    }
   ],
   "source": [
    "imc_min = 18.5\n",
    "imc_max = 24.9\n",
    "imc_medio = (imc_min + imc_max) / 2\n",
    "print(imc_medio)  "
   ]
  },
  {
   "cell_type": "markdown",
   "metadata": {},
   "source": [
    "### 07 - Peso ideal 2\n",
    "Recebendo um valor de altura, encontre o peso '*ideal*' dessa pessoa, que fornece o IMC encontrado acima"
   ]
  },
  {
   "cell_type": "code",
   "execution_count": 20,
   "metadata": {},
   "outputs": [
    {
     "name": "stdout",
     "output_type": "stream",
     "text": [
      "Peso ideal: 62.71 kg\n"
     ]
    }
   ],
   "source": [
    "altura = 1.70\n",
    "\n",
    "# Seu código\n",
    "imc_medio = 21.7\n",
    "peso_ideal = imc_medio * altura**2\n",
    "print(f\"Peso ideal: {peso_ideal:.2f} kg\")"
   ]
  },
  {
   "cell_type": "markdown",
   "metadata": {},
   "source": [
    "### 08 - Peso ideal 3\n",
    "Dada uma lista contendo as alturas de pacientes, crie uma nova lista que contenha o peso '*ideal*' (que fornece o IMC calculado em **Peso ideal 1**) desses pacientes.\n"
   ]
  },
  {
   "cell_type": "code",
   "execution_count": 21,
   "metadata": {},
   "outputs": [
    {
     "name": "stdout",
     "output_type": "stream",
     "text": [
      "[82.51, 91.19, 62.71, 59.08]\n"
     ]
    }
   ],
   "source": [
    "lista_alturas = [1.95, 2.05, 1.70, 1.65]\n",
    "\n",
    "lista_peso_ideal = []\n",
    "\n",
    "# seu código\n",
    "\n",
    "# cálculo dos pesos ideais\n",
    "lista_pesos_ideais = [round(imc_medio * h**2, 2) for h in lista_alturas]\n",
    "\n",
    "print(lista_pesos_ideais)\n"
   ]
  },
  {
   "cell_type": "markdown",
   "metadata": {},
   "source": [
    "### 09 - Peso ideal 4\n",
    "Dada uma lista de tuplas - cada elemento da lista é uma tupla contendo altura e peso de um paciente - crie uma nova lista com o IMC desses pacientes."
   ]
  },
  {
   "cell_type": "code",
   "execution_count": 22,
   "metadata": {},
   "outputs": [
    {
     "name": "stdout",
     "output_type": "stream",
     "text": [
      "[(27.78, 'Sobrepeso'), (27.55, 'Sobrepeso'), (19.19, 'Normal')]\n"
     ]
    }
   ],
   "source": [
    "altura_peso = [(1.80, 90), (1.65, 75), (1.91, 70)]\n",
    "\n",
    "imc = []\n",
    "\n",
    "# seu código\n",
    "\n",
    "def classifica_imc(imc):\n",
    "    if imc < 18.5:\n",
    "        return \"Abaixo do peso\"\n",
    "    if imc < 25:\n",
    "        return \"Normal\"\n",
    "    if imc < 30:\n",
    "        return \"Sobrepeso\"\n",
    "    return \"Obesidade\"\n",
    "\n",
    "lista_imc_classes = []\n",
    "for altura, peso in altura_peso:\n",
    "    imc = round(peso / (altura ** 2), 2)\n",
    "    classe = classifica_imc(imc)\n",
    "    lista_imc_classes.append((imc, classe))\n",
    "\n",
    "print(lista_imc_classes)\n"
   ]
  },
  {
   "cell_type": "markdown",
   "metadata": {},
   "source": [
    "### 10 - Peso ideal 5\n",
    "Dada uma lista de **listas** - cada elemento da lista é uma **lista** contendo altura e peso de um paciente, adicione mais um elemento à lista de cada paciente contendo o IMC do paciente. Verifique também se é 'baixo', 'normal' ou 'alto' segundo os padrões da OMS em que normal é entre 18.5 e 24.9.\n",
    "\n",
    "Reflexão: por que no problema anterior temos que criar uma nova lista, e não podemos adicionar os dados de cada indivíduo à tupla?"
   ]
  },
  {
   "cell_type": "code",
   "execution_count": 24,
   "metadata": {},
   "outputs": [
    {
     "name": "stdout",
     "output_type": "stream",
     "text": [
      "[[1.8, 90, 27.78, 'alto'], [1.65, 75, 27.55, 'alto'], [1.91, 70, 19.19, 'normal']]\n"
     ]
    }
   ],
   "source": [
    "altura_peso = [[1.80, 90], [1.65, 75], [1.91, 70]]\n",
    "\n",
    "# seu código\n",
    "def classifica_imc(imc):\n",
    "    if imc < 18.5:\n",
    "        return \"baixo\"\n",
    "    if imc <= 24.9:\n",
    "        return \"normal\"\n",
    "    return \"alto\"\n",
    "\n",
    "for paciente in altura_peso:\n",
    "    altura, peso = paciente[0], paciente[1]\n",
    "    imc = round(peso / (altura ** 2), 2)\n",
    "    paciente.append(imc)\n",
    "    paciente.append(classifica_imc(imc))\n",
    "\n",
    "print(altura_peso)\n"
   ]
  },
  {
   "cell_type": "markdown",
   "metadata": {},
   "source": [
    "Reflexão sobre tuplas vs listas\n",
    "• \tMotivo: tuplas são imutáveis; não é possível adicionar elementos a uma tupla após a criação.\n",
    "• \tConclusão: para modificar elementos individuais (adicionar IMC e classificação) use listas em vez de tuplas."
   ]
  }
 ],
 "metadata": {
  "kernelspec": {
   "display_name": "Python [conda env:base] *",
   "language": "python",
   "name": "conda-base-py"
  },
  "language_info": {
   "codemirror_mode": {
    "name": "ipython",
    "version": 3
   },
   "file_extension": ".py",
   "mimetype": "text/x-python",
   "name": "python",
   "nbconvert_exporter": "python",
   "pygments_lexer": "ipython3",
   "version": "3.13.5"
  }
 },
 "nbformat": 4,
 "nbformat_minor": 4
}
