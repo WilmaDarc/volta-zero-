{
 "cells": [
  {
   "cell_type": "code",
   "execution_count": 1,
   "metadata": {
    "id": "fFhFteHV695k"
   },
   "outputs": [],
   "source": [
    "import numpy as np"
   ]
  },
  {
   "cell_type": "markdown",
   "metadata": {
    "id": "YLWEzg3N695m"
   },
   "source": [
    "### 1) Alturas  \n",
    "i. No trecho de código abaixo, crie um ndarray chamado ```altura_em_centimetros``` transformando a lista ```lista_de_alturas``` em um ndarray do numpy com a função ```np.array()```  \n",
    "ii. Crie um outro objeto ```altura_em_metros```, com os valores de ```altura_em_centimetros``` convertidos para metros."
   ]
  },
  {
   "cell_type": "code",
   "execution_count": 4,
   "metadata": {
    "id": "tx6DbJk7695o"
   },
   "outputs": [
    {
     "data": {
      "text/plain": [
       "[170, 175, 180, 185]"
      ]
     },
     "execution_count": 4,
     "metadata": {},
     "output_type": "execute_result"
    }
   ],
   "source": [
    "lista_de_alturas = list(range(170, 190, 5))\n",
    "lista_de_alturas"
   ]
  },
  {
   "cell_type": "code",
   "execution_count": 6,
   "metadata": {
    "id": "-tXC4lyT695o"
   },
   "outputs": [
    {
     "name": "stdout",
     "output_type": "stream",
     "text": [
      "[170 175 180 185]\n"
     ]
    }
   ],
   "source": [
    "altura_em_centimetros = np.array(lista_de_alturas)\n",
    "print(altura_em_centimetros) \n"
   ]
  },
  {
   "cell_type": "code",
   "execution_count": 7,
   "metadata": {
    "id": "zFDQt9_K695p"
   },
   "outputs": [
    {
     "name": "stdout",
     "output_type": "stream",
     "text": [
      "[1.7  1.75 1.8  1.85]\n"
     ]
    }
   ],
   "source": [
    "altura_em_metros = altura_em_centimetros / 100.0\n",
    "print(altura_em_metros)\n"
   ]
  },
  {
   "cell_type": "markdown",
   "metadata": {
    "id": "hlsDzubv695p"
   },
   "source": [
    "### 2) IMC  \n",
    "i. Considere que pesos em Kg dessas pessoas, na mesma ortem, estão na lista pesos ```lista_pesos = [70, 75, 80, 85]```. Crie um **ndarray** chamado ```pesos``` com a função ```np.array()``` que contenha esses valores.  \n",
    "ii. Utilizando o objeto que contém as alturas em metros e esse objeto que contém os respectivos pesos em quilos, calcule o IMC desses indivíduos utilizando a aritmética de arrays e guarde os resultados em um objeto chamado ```imc```."
   ]
  },
  {
   "cell_type": "code",
   "execution_count": 10,
   "metadata": {
    "id": "YL87C0It695p",
    "outputId": "f147f2f0-c5e8-407c-a708-914ddc99fa6d"
   },
   "outputs": [],
   "source": [
    "lista_pesos = [70, 75, 80, 85]\n",
    "lista_pesos\n",
    "# seu código aqui\n",
    "pesos = np.array(lista_pesos)\n"
   ]
  },
  {
   "cell_type": "code",
   "execution_count": 11,
   "metadata": {
    "id": "WgZtY2Ox695q"
   },
   "outputs": [
    {
     "name": "stdout",
     "output_type": "stream",
     "text": [
      "pesos: [70 75 80 85]\n",
      "altura_em_metros: [1.7  1.75 1.8  1.85]\n",
      "imc: [24.22145329 24.48979592 24.69135802 24.83564646]\n"
     ]
    }
   ],
   "source": [
    "# calcule o IMC dessas pessoas\n",
    "imc = pesos / (altura_em_metros ** 2)\n",
    "\n",
    "print(\"pesos:\", pesos)\n",
    "print(\"altura_em_metros:\", altura_em_metros)\n",
    "print(\"imc:\", imc)\n",
    "\n"
   ]
  },
  {
   "cell_type": "markdown",
   "metadata": {
    "id": "k1JIBxZb695r"
   },
   "source": [
    "### 3) Endividamento\n",
    "\n",
    "Cálculos de novas variáveis como endividamento total e comprometimento de renda são essenciais para a construção de modelos financeiros em ciência de dados. Áreas não financeiras terão cálculos semelhantes também. Vamos praticar:\n",
    "\n",
    "Considere que o seguinte ndarray contém os dados de 4 pessoas, total a ser pago a empréstimos mensalmente e renda familiar:\n",
    "\n",
    "| custo fixo | dívida financeira | renda familiar |\n",
    "|:----:|:----:|:---|\n",
    "| 3000  | 1000 | 6000 |\n",
    "| 2500  | 2500 | 5500 |\n",
    "| 1000  | 3000 | 7000 |\n",
    "| 10000 | 5000 | 16000 |\n",
    "\n",
    "i. Transforme a lista de listas ```dados_financeiros``` no ndarray ```nd_financeiros```.\n",
    "> ``` dados_financeiros[[3000, 2500, 1000, 10000],[1000, 2500, 3000, 5000],[6000, 5500, 7000, 16000]] ```\n",
    "\n",
    "ii. Utilize o método ```.transpose ``` e certifique-se de que esse ndarray tenha uma linha por indivíduo e uma coluna por informação. Utilizando a indexação do numpy, imprima no output a segunda linha do array, depois a segunda coluna.\n",
    "\n",
    "iii. Pratique aritmética com nearrays e calcule o endividamento total como:\n",
    "$$endividamento\\hspace{.2cm}total = \\frac{custo \\hspace{.2cm}fixo + dívida\\hspace{.2cm}financeira}{renda\\hspace{.2cm}familiar}$$\n",
    "Guarde os resultados em uma variável chamada ```endividamento_total``` e verifique os resultados imprimindo o conteúdo dessa variável no output.\n",
    "\n",
    "iv. Considere que há um erro de digitação que precisa ser corrigido: 3o indivíduo na verdade não possui renda familiar de R\\\\$7.000,00, mas sim R\\\\$ 10.000,00. Corrija esse valor e refaça os cálculos."
   ]
  },
  {
   "cell_type": "code",
   "execution_count": 12,
   "metadata": {
    "id": "k17jw6kT695r"
   },
   "outputs": [],
   "source": [
    "# lista dados_financeiros\n",
    "dados_financeiros = [[3000, 2500, 1000, 10000],[1000, 2500, 3000, 5000],[6000, 5500, 7000, 16000]]\n",
    "dados_financeiros\n",
    "#i) transforme essa lista em um ndarray\n",
    "nd_financeiros = np.array(dados_financeiros).transpose()\n",
    "# agora as linhas são: [custo_fixo], [divida_financeira], [renda_familiar]\n",
    "\n"
   ]
  },
  {
   "cell_type": "code",
   "execution_count": 13,
   "metadata": {
    "id": "ecRsPjml695r"
   },
   "outputs": [
    {
     "name": "stdout",
     "output_type": "stream",
     "text": [
      "Família 1: 5.50\n",
      "Família 2: 1.17\n",
      "Família 3: 1.64\n"
     ]
    }
   ],
   "source": [
    "custo_fixo = nd_financeiros[0]\n",
    "divida_financeira = nd_financeiros[1]\n",
    "renda_familiar = nd_financeiros[2]\n",
    "\n",
    "endividamento_total = (custo_fixo + divida_financeira) / renda_familiar\n",
    "\n",
    "# imprimir com duas casas decimais\n",
    "for i, val in enumerate(endividamento_total, start=1):\n",
    "    print(f\"Família {i}: {val:.2f}\")"
   ]
  },
  {
   "cell_type": "code",
   "execution_count": 14,
   "metadata": {
    "id": "RgMG-t9-695s"
   },
   "outputs": [
    {
     "name": "stdout",
     "output_type": "stream",
     "text": [
      "Renda mínima necessária para endividamento ≤ 0.3: R$ 29000.00\n"
     ]
    }
   ],
   "source": [
    "# iii) Calcule o endividamento total\n",
    "endividamento_atual = 0.87\n",
    "renda_atual = 10000.0\n",
    "numerador = endividamento_atual * renda_atual\n",
    "\n",
    "renda_minima = numerador / 0.3\n",
    "print(f\"Renda mínima necessária para endividamento ≤ 0.3: R$ {renda_minima:.2f}\")\n"
   ]
  },
  {
   "cell_type": "code",
   "execution_count": 15,
   "metadata": {
    "id": "FxaSHRgy695t"
   },
   "outputs": [
    {
     "name": "stdout",
     "output_type": "stream",
     "text": [
      "Família 1: 5.50\n",
      "Família 2: 1.17\n",
      "Família 3: 1.15\n",
      "\n",
      "Famílias com endividamento > 0.3:\n",
      "Família 1: endividamento = 5.50; renda mínima necessária = R$ 18333.33\n",
      "Família 2: endividamento = 1.17; renda mínima necessária = R$ 11666.67\n",
      "Família 3: endividamento = 1.15; renda mínima necessária = R$ 38333.33\n"
     ]
    }
   ],
   "source": [
    "# iv) corrigindo um valor específico\n",
    "\n",
    "nd_financeiros[2, 2] = 10000\n",
    "\n",
    "# separar vetores\n",
    "custo_fixo = nd_financeiros[0]\n",
    "divida_financeira = nd_financeiros[1]\n",
    "renda_familiar = nd_financeiros[2]\n",
    "\n",
    "# (1) calcular endividamento total\n",
    "endividamento_total = (custo_fixo + divida_financeira) / renda_familiar\n",
    "\n",
    "# imprimir com duas casas decimais\n",
    "for i, val in enumerate(endividamento_total, start=1):\n",
    "    print(f\"Família {i}: {val:.2f}\")\n",
    "\n",
    "# (2) identificar famílias com endividamento > 0.3 e calcular renda mínima necessária\n",
    "numerador = custo_fixo + divida_financeira\n",
    "mascara_excede = endividamento_total > 0.3\n",
    "\n",
    "print(\"\\nFamílias com endividamento > 0.3:\")\n",
    "for i in np.where(mascara_excede)[0]:\n",
    "    renda_minima = numerador[i] / 0.3\n",
    "    print(f\"Família {i+1}: endividamento = {endividamento_total[i]:.2f}; renda mínima necessária = R$ {renda_minima:.2f}\")\n",
    "\n"
   ]
  },
  {
   "cell_type": "code",
   "execution_count": null,
   "metadata": {
    "id": "OYxfd00O695t"
   },
   "outputs": [],
   "source": []
  },
  {
   "cell_type": "markdown",
   "metadata": {
    "id": "RghMgSOX695t"
   },
   "source": [
    "### 4) É muito comum precisarmos identificar valores especiais e darmos tratamento a eles quer seja alterando-os quer seja descartando-os. \n",
    "\n",
    "O trecho de código abaixo gera um ndarray com números pseudo aleatórios. Considere que para efeitos do estudo que virá, devemos desconsiderar valores iguais a zero. Sendo assim:\n",
    "\n",
    "i) crie um objeto ```bool_zero``` que traga uma sequencia de booleanos do mesmo tamanho que o objeto poi, e que vale ```True``` quando o valor de ```poi``` é zero, e ```False``` caso contrário.\n",
    "\n",
    "ii) Conte quantos valores zero existem. Lembre-se de que no final das contas, ```True``` vale 1 para o Python, e ```False``` vale zero, então uma boa dica seria usar a função ```sum()```.\n",
    "\n",
    "iii) Utilize a indexação booleana que você aprendeu para criar uma variável ```poi_nao_zero``` que aponta para os elementos de ```poi``` diferentes de zero. Dica: você vai pode inverter os elementos do objeto que criou em *ii)* ou escrever a comparação adequada."
   ]
  },
  {
   "cell_type": "code",
   "execution_count": 16,
   "metadata": {
    "id": "Y6JUhNiT695t",
    "outputId": "06ceb3b7-5eb0-45d0-f3b3-ea6ff6f0df2a"
   },
   "outputs": [],
   "source": [
    "# objeto poi - obs: o comando np.random.seed(1234) garante que o mesmo resultado será gerado sempre\n",
    "np.random.seed(1234)\n",
    "poi = np.random.poisson(3, 100)\n",
    "poi\n",
    "bool_zero = (poi == 0)\n"
   ]
  },
  {
   "cell_type": "code",
   "execution_count": 17,
   "metadata": {
    "id": "dWElD2MJ695u"
   },
   "outputs": [],
   "source": [
    "# i) crie o objeto bool_zero através do operador ==\n",
    "num_zeros = bool_zero.sum()\n"
   ]
  },
  {
   "cell_type": "code",
   "execution_count": 20,
   "metadata": {
    "id": "hr-knXzs695u"
   },
   "outputs": [],
   "source": [
    "# ii) Conte a quantidade de zeros (ou some os elementos de bool_zero)\n",
    "quantidade_zeros = bool_zero.sum()\n"
   ]
  },
  {
   "cell_type": "code",
   "execution_count": 21,
   "metadata": {
    "id": "5s3DqCup695u"
   },
   "outputs": [],
   "source": [
    "# iii) utilize a indexação booleana para criar uma seleção de não-zeros\n",
    "# dica: inverta o objeto bool_zero\n",
    "poi_nao_zero = poi[~bool_zero]   \n",
    "\n"
   ]
  },
  {
   "cell_type": "code",
   "execution_count": 22,
   "metadata": {},
   "outputs": [
    {
     "name": "stdout",
     "output_type": "stream",
     "text": [
      "poi:                [3 3 6 2 4 5 4 4 2 0 3 3 2 8 2 3 3 3 0 4 4 2 6 6 0 3 4 3 5 2 1 3 2 2 3 2 4\n",
      " 4 5 7 3 5 3 3 2 2 3 6 2 2 4 3 5 2 5 3 0 2 1 1 4 4 4 6 2 4 1 2 5 5 3 4 1 4\n",
      " 1 1 7 1 2 1 3 7 0 4 4 0 6 1 3 4 2 5 4 5 5 3 4 6 8 2]\n",
      "bool_zero:          [False False False False False False False False False  True False False\n",
      " False False False False False False  True False False False False False\n",
      "  True False False False False False False False False False False False\n",
      " False False False False False False False False False False False False\n",
      " False False False False False False False False  True False False False\n",
      " False False False False False False False False False False False False\n",
      " False False False False False False False False False False  True False\n",
      " False  True False False False False False False False False False False\n",
      " False False False False]\n",
      "Quantidade de zeros: 6\n",
      "poi sem zeros:      [3 3 6 2 4 5 4 4 2 3 3 2 8 2 3 3 3 4 4 2 6 6 3 4 3 5 2 1 3 2 2 3 2 4 4 5 7\n",
      " 3 5 3 3 2 2 3 6 2 2 4 3 5 2 5 3 2 1 1 4 4 4 6 2 4 1 2 5 5 3 4 1 4 1 1 7 1\n",
      " 2 1 3 7 4 4 6 1 3 4 2 5 4 5 5 3 4 6 8 2]\n"
     ]
    }
   ],
   "source": [
    "print(\"poi:               \", poi)\n",
    "print(\"bool_zero:         \", bool_zero)\n",
    "print(\"Quantidade de zeros:\", quantidade_zeros)\n",
    "print(\"poi sem zeros:     \", poi_nao_zero)\n",
    "\n"
   ]
  },
  {
   "cell_type": "code",
   "execution_count": null,
   "metadata": {},
   "outputs": [],
   "source": []
  }
 ],
 "metadata": {
  "colab": {
   "collapsed_sections": [],
   "provenance": []
  },
  "kernelspec": {
   "display_name": "Python [conda env:base] *",
   "language": "python",
   "name": "conda-base-py"
  },
  "language_info": {
   "codemirror_mode": {
    "name": "ipython",
    "version": 3
   },
   "file_extension": ".py",
   "mimetype": "text/x-python",
   "name": "python",
   "nbconvert_exporter": "python",
   "pygments_lexer": "ipython3",
   "version": "3.13.5"
  }
 },
 "nbformat": 4,
 "nbformat_minor": 4
}
