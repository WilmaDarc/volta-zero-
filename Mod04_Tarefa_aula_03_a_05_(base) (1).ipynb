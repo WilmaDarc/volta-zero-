{
 "cells": [
  {
   "cell_type": "markdown",
   "metadata": {
    "id": "njUvbhQmC8-t"
   },
   "source": [
    "## Exercício 1: Vestibular\n",
    "\n",
    "Considere que a os dados gerados na célula abaixo contêm o número de acertos de 100 alunos em um vestibular para um curso de exatas, divididas pelos respectivos assuntos. Considere que cada assunto possui um número de questões conforme a tabela abaixo:\n",
    "\n",
    "| assunto | número de questões |\n",
    "|:---:|:---:|\n",
    "| Matemática | 24 |\n",
    "| Português | 18 |\n",
    "| Geografia | 8 |\n",
    "| Inglês | 8 |\n",
    "| História | 8 |\n",
    "| Física | 12 |\n",
    "| Química | 12 |\n",
    "\n",
    "Usando os comandos de operações com DataFrames que você aprendeu na Aula 03, calcule:\n",
    "\n",
    "1. (operações com escalar) Calcule o percentual de acerto dos alunos por assunto.  \n",
    "2. (operações entre *DataFrames) Calcule o total de acertos de cada aluno.  \n",
    "3. Calcule o percentual geral de cada aluno.  \n",
    "4. Suponha que a nota de corte para a segunda fase seja 45. Quantos alunos tiveram nota maior que 45?  "
   ]
  },
  {
   "cell_type": "code",
   "execution_count": 40,
   "metadata": {
    "id": "Ll6TadxCC8-y"
   },
   "outputs": [
    {
     "name": "stdout",
     "output_type": "stream",
     "text": [
      "   Matematica  Portugues  Geografia  Ingles  Historia  Fisica  Quimica\n",
      "0           6          6          6       3         5       8        8\n",
      "1          19          8          3       2         8       6        1\n",
      "2          14          0          6       0         4      12        8\n",
      "3          10         11          7       0         0       4        0\n",
      "4           7          7          0       4         3       9        0\n"
     ]
    }
   ],
   "source": [
    "import numpy as np\n",
    "import pandas as pd\n",
    "\n",
    "# seed e número de alunos\n",
    "np.random.seed(42)\n",
    "n = 100\n",
    "\n",
    "# máximos por disciplina (usei a tabela que você confirmou)\n",
    "max_q = {\n",
    "    'Matematica': 24,\n",
    "    'Portugues' : 18,\n",
    "    'Geografia' : 8,\n",
    "    'Ingles'    : 8,\n",
    "    'Historia'  : 8,\n",
    "    'Fisica'    : 12,\n",
    "    'Quimica'   : 12\n",
    "}\n",
    "\n",
    "# gerar DataFrame com acertos aleatórios (0..max inclusive)\n",
    "df_all = pd.DataFrame({\n",
    "    'Matematica': np.random.randint(0, max_q['Matematica'] + 1, size=n),\n",
    "    'Portugues' : np.random.randint(0, max_q['Portugues'] + 1, size=n),\n",
    "    'Geografia' : np.random.randint(0, max_q['Geografia'] + 1, size=n),\n",
    "    'Ingles'    : np.random.randint(0, max_q['Ingles'] + 1, size=n),\n",
    "    'Historia'  : np.random.randint(0, max_q['Historia'] + 1, size=n),\n",
    "    'Fisica'    : np.random.randint(0, max_q['Fisica'] + 1, size=n),\n",
    "    'Quimica'   : np.random.randint(0, max_q['Quimica'] + 1, size=n)\n",
    "})\n",
    "\n",
    "# exemplo rápido: mostrar primeiras linhas\n",
    "print(df_all.head())\n"
   ]
  },
  {
   "cell_type": "code",
   "execution_count": 59,
   "metadata": {
    "id": "JVmLXiC2C8-0"
   },
   "outputs": [],
   "source": [
    "# 1) Seu código aqui\n",
    "for col, mx in max_q.items():\n",
    "    df_all[f'{col}_pct'] = (df_all[col] / mx) * 100\n"
   ]
  },
  {
   "cell_type": "code",
   "execution_count": 60,
   "metadata": {
    "id": "JbTwCyNHC8-1"
   },
   "outputs": [],
   "source": [
    "# 2) Seu código aqui\n",
    "\n",
    "df_all['Total_acertos'] = df_all[list(max_q.keys())].sum(axis=1)\n"
   ]
  },
  {
   "cell_type": "code",
   "execution_count": 61,
   "metadata": {
    "id": "c2L8dJkVC8-3"
   },
   "outputs": [],
   "source": [
    "# 3) Seu código aqui\n",
    "total_questoes = sum(max_q.values())  # soma das questões de todas as disciplinas\n",
    "df_all['Percentual_geral'] = (df_all['Total_acertos'] / total_questoes) * 100\n",
    "\n"
   ]
  },
  {
   "cell_type": "code",
   "execution_count": 62,
   "metadata": {
    "id": "PZTZ7DFzC8-3"
   },
   "outputs": [],
   "source": [
    "# 4) Seu código aqui\n",
    "n_maior_45 = (df_all['Total_acertos'] > 45).sum()\n",
    "\n"
   ]
  },
  {
   "cell_type": "code",
   "execution_count": 63,
   "metadata": {},
   "outputs": [
    {
     "name": "stdout",
     "output_type": "stream",
     "text": [
      "\n",
      "Resumo dos totais (describe):\n",
      "count    100.000000\n",
      "mean      44.120000\n",
      "std       10.530648\n",
      "min       16.000000\n",
      "25%       37.750000\n",
      "50%       43.000000\n",
      "75%       51.000000\n",
      "max       66.000000\n",
      "Name: Total_acertos, dtype: float64\n"
     ]
    }
   ],
   "source": [
    "print(\"\\nResumo dos totais (describe):\")\n",
    "print(df_all['Total_acertos'].describe())\n"
   ]
  },
  {
   "cell_type": "markdown",
   "metadata": {
    "id": "Hlfl75XXC8-4"
   },
   "source": [
    "## 2) Vestibular II\n",
    "\n",
    "Ainda sobre o mesmo banco de dados:\n",
    "\n",
    "1. Neste vestibular, quem 'zera' em matemática, física ou química está desqualificado. Monte um novo *DataFrame* com os alunos desqualificados por este critério.\n",
    "2. Quantos são esses alunos?\n",
    "3. Qual a média desses alunos em história e geografia?\n",
    "4. Monte um *DataFrame* com os alunos que passaram para a segunda fase. Repare que estes alunos não podem ter sido desqualificados."
   ]
  },
  {
   "cell_type": "code",
   "execution_count": 68,
   "metadata": {
    "id": "hPaMGXvJC8-4"
   },
   "outputs": [],
   "source": [
    "# seu código aqui\n",
    "mask_desqual = (df_all['Matematica'] == 0) | (df_all['Fisica'] == 0) | (df_all['Quimica'] == 0)\n",
    "df_desqualificados = df_all[mask_desqual].copy()\n",
    "n_desqual = df_desqualificados.shape[0]\n",
    "if n_desqual > 0:\n",
    "    media_historia_desq = df_desqualificados['Historia'].mean()\n",
    "    media_geografia_desq = df_desqualificados['Geografia'].mean()\n",
    "else:\n",
    "    media_historia_desq = float('nan')\n",
    "    media_geografia_desq = float('nan')\n",
    "mask_passaram = (df_all['Total_acertos'] > 45) & (~mask_desqual)\n",
    "df_passaram = df_all[mask_passaram].copy()\n",
    "n_passaram = df_passaram.shape[0]\n",
    "\n"
   ]
  },
  {
   "cell_type": "markdown",
   "metadata": {},
   "source": [
    "## 3) Vacinações no Acre\n",
    "Vamos trabalhar agora com a base de vacinações no Acre. Para facilitar a sua vida, copiamos o link do arquivo na célula abaixo.\n",
    "\n",
    "1. Quantas vacinas estão registradas nessa base?  \n",
    "2. Quantos pacientes foram vacinados? (considere um paciente para cada valor único de ```paciente_id```)  \n",
    "3. Quantos pacientes únicos tomaram a primeira dose? OBS: Há um caractere especial neste campo. Receba os valores do campo com o método ```.unique()```.   \n",
    "4. Quantos pacientes com menos de 18 anos foram vacinados?  \n",
    "5. Quantos estabelecimentos aplicaram vacina no Acre?\n",
    "\n",
    "\n",
    "**OBS:** O portal do DATASUS pode apresentar instabilidades, retornando um erro na segunda célula abaixo. Por este motivo está disponível uma base estática, que se for baixada para o seu *working directory* pode ser lida com este comando: ```df = pd.read_csv('registros de vacinacao covid ACRE.csv', sep=';')```.\n",
    "\n",
    "**OBS2:** Para saber qual é o seu working directory, rode no jupyter: ```!pwd```.            "
   ]
  },
  {
   "cell_type": "code",
   "execution_count": 152,
   "metadata": {},
   "outputs": [],
   "source": [
    "arquivo = 'https://s3.sa-east-1.amazonaws.com/ckan.saude.gov.br/SIPNI/COVID/uf/uf%3DAC/part-00000-5ed92752-6121-474f-ab37-816918134afc.c000.csv'"
   ]
  },
  {
   "cell_type": "code",
   "execution_count": 168,
   "metadata": {},
   "outputs": [],
   "source": [
    "import pandas as pd\n",
    "import io\n",
    "from pathlib import Path\n",
    "from datetime import datetime\n",
    "\n",
    "# caminho exato do seu arquivo\n",
    "p = Path(r\"C:\\Users\\wilma\\OneDrive\\Área de Trabalho\\projeto phyton\\registros de vacinacao covid ACRE.csv\")\n",
    "if not p.exists():\n",
    "    raise SystemExit(f\"Arquivo não encontrado: {p}\")\n",
    "\n",
    "# detectar separador nas primeiras linhas\n",
    "with p.open(\"r\", encoding=\"utf-8\", errors=\"ignore\") as f:\n",
    "    sample = \"\".join([next(f) for _ in range(5)])\n",
    "sep = None\n",
    "for s in [';',',','\\t','|']:\n",
    "    try:\n",
    "        cols = pd.read_csv(io.StringIO(sample), sep=s, nrows=0).columns.tolist()\n",
    "        if len(cols) > 1:\n",
    "            sep = s\n",
    "            break\n",
    "    except Exception:\n",
    "        continue\n",
    "if sep is None:\n",
    "    sep = ';'\n",
    "\n",
    "# ler o arquivo (df_vac) com o separador detectado\n",
    "with p.open(\"r\", encoding=\"utf-8\", errors=\"ignore\") as f:\n",
    "    txt = f.read()\n",
    "df_vac = pd.read_csv(io.StringIO(txt), sep=sep, dtype=str, low_memory=False)\n",
    "df_vac.columns = [c.strip() for c in df_vac.columns]\n",
    "\n",
    "# helpers\n",
    "def clean(s):\n",
    "    return s.astype(str).str.strip().replace({\"\": pd.NA, \"nan\": pd.NA, \"null\": pd.NA, \"None\": pd.NA}).dropna()\n",
    "\n",
    "# detectar colunas (baseado nas colunas exibidas anteriormente)\n",
    "col_id = next((c for c in df_vac.columns if c.lower() in ('paciente_id','patient_id','document_id','documentid')), None)\n",
    "col_birth = next((c for c in df_vac.columns if 'datanasc' in c.lower() or 'datanascimento' in c.lower() or 'data_nasc' in c.lower()), None)\n",
    "col_dose = next((c for c in df_vac.columns if 'descricao' in c.lower() and 'dose' in c.lower()), None)\n",
    "if not col_dose:\n",
    "    col_dose = next((c for c in df_vac.columns if 'dose' in c.lower()), None)\n",
    "col_observacao = next((c for c in df_vac.columns if 'observ' in c.lower() or 'estado_observacao' in c.lower() or 'em_observacao' in c.lower()), None)\n",
    "col_estab = next((c for c in df_vac.columns if 'estabelecimento' in c.lower() or 'estalecimento' in c.lower() or 'unidade' in c.lower()), None)\n",
    "\n"
   ]
  },
  {
   "cell_type": "code",
   "execution_count": 170,
   "metadata": {
    "id": "SC9YMWLSC8-6"
   },
   "outputs": [],
   "source": [
    "# 1) Sua solução aqui\n",
    "total_vacinas = len(df_vac)\n"
   ]
  },
  {
   "cell_type": "code",
   "execution_count": 171,
   "metadata": {
    "id": "PMztY1RlC8-7"
   },
   "outputs": [],
   "source": [
    "# 2)\n",
    "pacientes_unicos = int(clean(df_vac[col_id]).nunique()) if col_id else \"coluna paciente_id não detectada\"\n"
   ]
  },
  {
   "cell_type": "code",
   "execution_count": 172,
   "metadata": {
    "id": "V_wr--3JC8-7"
   },
   "outputs": [],
   "source": [
    "# 3)\n",
    "registros_primeira_dose = None\n",
    "pacientes_primeira_unicos = None\n",
    "if col_dose:\n",
    "    dose_s = df_vac[col_dose].astype(str).str.normalize('NFKD').str.encode('ascii', errors='ignore').str.decode('ascii').str.lower()\n",
    "    mask_1 = dose_s.str.contains(r'\\b1\\b|\\b1a\\b|1ª|primeira|primeiro|dose 1|dose1', na=False)\n",
    "    registros_primeira_dose = int(mask_1.sum())\n",
    "    if col_id:\n",
    "        pacientes_primeira_unicos = int(clean(df_vac.loc[mask_1, col_id]).nunique())\n",
    "\n"
   ]
  },
  {
   "cell_type": "code",
   "execution_count": 173,
   "metadata": {
    "id": "S6ab9ExEC8-7"
   },
   "outputs": [],
   "source": [
    "# 4)\n",
    "pacientes_menor18_unicos = None\n",
    "menores_sample = None\n",
    "if col_birth and col_id:\n",
    "    nasc = pd.to_datetime(df_vac[col_birth].astype(str).str.strip(), dayfirst=False, errors='coerce', format=\"%Y-%m-%d\")\n",
    "    hoje = pd.Timestamp.now().normalize()\n",
    "    idade = (hoje - nasc).dt.days // 365\n",
    "    mask_menor = idade < 18\n",
    "    pacientes_menor18_unicos = int(clean(df_vac.loc[mask_menor, col_id]).nunique())\n",
    "    menores_sample = df_vac.loc[mask_menor, [col_id, col_birth]].drop_duplicates().head(20)\n",
    "\n",
    "\n"
   ]
  },
  {
   "cell_type": "code",
   "execution_count": 174,
   "metadata": {
    "id": "PVrY_-qlC8-8"
   },
   "outputs": [],
   "source": [
    "# 5)\n",
    "observacao_unicos = None\n",
    "if col_observacao and col_id:\n",
    "    # considera valores truthy/indicadores de observação (ajuste conforme seus dados)\n",
    "    obs_s = df_vac[col_observacao].astype(str).str.strip().str.lower()\n",
    "    mask_obs = obs_s.isin(['sim','s','true','1','em observacao','em observação']) | obs_s.str.contains('observ', na=False)\n",
    "    observacao_unicos = int(clean(df_vac.loc[mask_obs, col_id]).nunique())\n",
    "\n"
   ]
  },
  {
   "cell_type": "markdown",
   "metadata": {
    "id": "LH1LSYvGC8-8"
   },
   "source": [
    "## 4) Vacinação II\n",
    "Gere um *DataFrame* que contenha somente os estabelecimentos que aplicaram vcinas a menores de 18 anos. Nesse *DataFrame* devem conter somente os dados dos estabelecimentos, mais uma coluna sendo a quantidade de vacinas que o estabelecimento aplicou a menores de 18 anos.  \n",
    "  \n",
    "1. crie uma cópia do *DataFrame* original, contendo somente os registros de vacinas realizadas a menores de 18 anos.  \n",
    "2. crie uma lista das colunas desse *DataFrame* com o atributo de *DataFrame* **.columns()**  \n",
    "3. Nesse *DataFrame* faça uma contagem do campo ```vacina_categoria_nome```.\n",
    "3. a partir da lista de colunas, escolha somente aquelas que são referentes ao estabelecimento, faça uma lista com esses valores.  \n",
    "4. usando o método *.loc*, selecione somente essas variáveis  \n",
    "5. Aplique o método **.drop_duplicates** e crie uma lista com uma linha para cada estabelecimento, com os dados do estabelecimento  "
   ]
  },
  {
   "cell_type": "code",
   "execution_count": 181,
   "metadata": {
    "id": "3ojs12vUC8-8"
   },
   "outputs": [],
   "source": [
    "# 1)\n",
    "if not col_birth:\n",
    "    raise SystemExit(f\"Coluna de nascimento não detectada. Colunas disponíveis: {df.columns.tolist()}\")\n",
    "nasc = pd.to_datetime(df[col_birth].astype(str).str.strip(), dayfirst=False, errors='coerce', format=\"%Y-%m-%d\")\n",
    "hoje = pd.Timestamp.now().normalize()\n",
    "idade_anos = (hoje - nasc).dt.days // 365\n",
    "mask_menor18 = idade_anos < 18\n",
    "df_menores18 = df.loc[mask_menor18].copy()\n"
   ]
  },
  {
   "cell_type": "code",
   "execution_count": 196,
   "metadata": {
    "id": "sLyevPRBC8-8"
   },
   "outputs": [],
   "source": [
    "# 2)\n",
    "colunas_df_menores18 = df_menores18.columns.tolist()\n"
   ]
  },
  {
   "cell_type": "code",
   "execution_count": 197,
   "metadata": {
    "id": "lZAW-Dp8C8-8"
   },
   "outputs": [],
   "source": [
    "# 3)\n",
    "if col_vac_cat and col_vac_cat in df_menores18.columns:\n",
    "    contagem_vacina_categoria = df_menores18[col_vac_cat].astype(str).str.strip().value_counts()\n"
   ]
  },
  {
   "cell_type": "code",
   "execution_count": 199,
   "metadata": {
    "id": "xxYsxrxAC8-8"
   },
   "outputs": [],
   "source": [
    "# 4)\n",
    "# seleciona_colunas_estabelecimento.py\n",
    "import pandas as pd\n",
    "\n",
    "if 'df_menores18' not in globals():\n",
    "    raise SystemExit(\"df_menores18 não encontrado. Rode a célula que filtra menores de 18 antes.\")\n",
    "\n",
    "cols = df_menores18.columns.tolist()\n",
    "\n",
    "# palavras-chave úteis para detectar colunas de estabelecimento\n",
    "keywords = [\n",
    "    'estabelecimento', 'estab', 'unidade', 'cnes', 'razao', 'razao_social', 'razaosocial',\n",
    "    'fantasia', 'nofantasia', 'nome_estab', 'nome', 'endereco', 'municipio', 'município', 'cidade',\n",
    "    'bairro', 'cep', 'uf', 'codigo_estabelecimento', 'codigocnes', 'codigo_cnes', 'cnes_codigo'\n",
    "]\n",
    "\n",
    "# normalizar nomes para comparação\n",
    "cols_norm = [c.lower().strip() for c in cols]\n",
    "\n",
    "# heurística: marcar colunas que contenham qualquer keyword\n",
    "estab_mask = [any(k in cn for k in keywords) for cn in cols_norm]\n",
    "estab_cols = [c for c, m in zip(cols, estab_mask) if m]\n",
    "\n",
    "# ranking simples de candidatos (quantas keywords cada coluna contém)\n",
    "def score_col(name):\n",
    "    ln = name.lower()\n",
    "    return sum(1 for k in keywords if k in ln)\n",
    "\n",
    "ranked = sorted([(c, score_col(c)) for c in cols], key=lambda x: (-x[1], x[0]))\n",
    "estab_cols_sugeridas = [c for c, s in ranked if s>0]\n",
    "\n"
   ]
  },
  {
   "cell_type": "code",
   "execution_count": 203,
   "metadata": {},
   "outputs": [
    {
     "name": "stdout",
     "output_type": "stream",
     "text": [
      "Colunas selecionadas: ['estabelecimento_valor', 'estabelecimento_municipio_nome']\n",
      "Linhas antes de filtrar: 8\n"
     ]
    }
   ],
   "source": [
    "# 5)\n",
    "# defina a lista corretamente (remova o # antes do colchete)\n",
    "estab_cols = [\n",
    "    'estabelecimento_valor',\n",
    "    'estabelecimento_nome_fantasia',\n",
    "    'estabelecimento_codigo',\n",
    "    'estabelecimento_tipo',\n",
    "    'estabelecimento_municipio_nome'\n",
    "]  # ajuste para os nomes reais do seu dataset\n",
    "\n",
    "# filtrar apenas as colunas de estabelecimento\n",
    "estab_only = df_menores18.loc[:, [c for c in estab_cols if c in df_menores18.columns]]\n",
    "\n",
    "# verificação rápida\n",
    "print(\"Colunas selecionadas:\", estab_only.columns.tolist())\n",
    "print(\"Linhas antes de filtrar:\", len(estab_only))"
   ]
  },
  {
   "cell_type": "code",
   "execution_count": 205,
   "metadata": {
    "id": "vaX2x_0rC8-8"
   },
   "outputs": [
    {
     "name": "stdout",
     "output_type": "stream",
     "text": [
      "Estabelecimentos únicos (linhas): 8\n",
      "Exemplo (até 10):\n",
      "estabelecimento_valor,estabelecimento_municipio_nome,vacinas_menores18\n",
      "2000040,FEIJO,1\n",
      "3323307,PORTO ACRE,1\n",
      "6428940,ASSIS BRASIL,1\n",
      "6430201,JORDAO,1\n",
      "6697151,SENA MADUREIRA,1\n",
      "6748759,FEIJO,1\n",
      "6917291,RIO BRANCO,1\n",
      "7625855,MARECHAL THAUMATURGO,1\n",
      "\n"
     ]
    }
   ],
   "source": [
    "# 6)\n",
    "estab_only = estab_only.copy()\n",
    "estab_only['_estab_key'] = estab_only.fillna('').astype(str).agg('||'.join, axis=1)\n",
    "contagem = estab_only.groupby('_estab_key').size().reset_index(name='vacinas_menores18')\n",
    "\n",
    "# pegar uma linha representativa de dados do estabelecimento (primeira ocorrência)\n",
    "dados_estab = estab_only.groupby('_estab_key', as_index=False).first()\n",
    "\n",
    "# juntar dados representativos com a contagem e remover coluna auxiliar\n",
    "estabelecimentos_menores18 = dados_estab.merge(contagem, on='_estab_key').drop(columns=['_estab_key'])\n",
    "\n",
    "# ordenar por contagem decrescente e resetar índice\n",
    "estabelecimentos_menores18 = estabelecimentos_menores18.sort_values(by='vacinas_menores18', ascending=False).reset_index(drop=True)\n",
    "\n",
    "# verificação rápida\n",
    "print(\"Estabelecimentos únicos (linhas):\", len(estabelecimentos_menores18))\n",
    "print(\"Exemplo (até 10):\")\n",
    "print(estabelecimentos_menores18.head(10).to_csv(index=False))\n",
    "\n"
   ]
  },
  {
   "cell_type": "code",
   "execution_count": null,
   "metadata": {},
   "outputs": [],
   "source": []
  }
 ],
 "metadata": {
  "colab": {
   "provenance": []
  },
  "kernelspec": {
   "display_name": "Python [conda env:base] *",
   "language": "python",
   "name": "conda-base-py"
  },
  "language_info": {
   "codemirror_mode": {
    "name": "ipython",
    "version": 3
   },
   "file_extension": ".py",
   "mimetype": "text/x-python",
   "name": "python",
   "nbconvert_exporter": "python",
   "pygments_lexer": "ipython3",
   "version": "3.13.5"
  },
  "toc": {
   "base_numbering": 1,
   "nav_menu": {},
   "number_sections": false,
   "sideBar": true,
   "skip_h1_title": true,
   "title_cell": "Índice",
   "title_sidebar": "Conteúdo",
   "toc_cell": false,
   "toc_position": {},
   "toc_section_display": true,
   "toc_window_display": false
  },
  "varInspector": {
   "cols": {
    "lenName": 16,
    "lenType": 16,
    "lenVar": 40
   },
   "kernels_config": {
    "python": {
     "delete_cmd_postfix": "",
     "delete_cmd_prefix": "del ",
     "library": "var_list.py",
     "varRefreshCmd": "print(var_dic_list())"
    },
    "r": {
     "delete_cmd_postfix": ") ",
     "delete_cmd_prefix": "rm(",
     "library": "var_list.r",
     "varRefreshCmd": "cat(var_dic_list()) "
    }
   },
   "types_to_exclude": [
    "module",
    "function",
    "builtin_function_or_method",
    "instance",
    "_Feature"
   ],
   "window_display": false
  }
 },
 "nbformat": 4,
 "nbformat_minor": 4
}
